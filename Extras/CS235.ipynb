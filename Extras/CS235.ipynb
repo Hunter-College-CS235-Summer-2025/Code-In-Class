{
 "cells": [
  {
   "cell_type": "code",
   "execution_count": null,
   "id": "0ada520d-6f81-4cf2-855a-2b43daa628d2",
   "metadata": {},
   "outputs": [],
   "source": [
    "import matplotlib.pyplot as plt\n",
    "from wordcloud import WordCloud\n",
    "import pandas as pd"
   ]
  },
  {
   "cell_type": "code",
   "execution_count": null,
   "id": "97638e29-cd6f-4b6c-af03-9ab67fca4021",
   "metadata": {},
   "outputs": [],
   "source": [
    "subfields = {\n",
    "    # student interests\n",
    "    \"Data Science\": 4,\n",
    "    \"Game Development\": 6,\n",
    "    \"Web Development\": 4,\n",
    "    \"Machine Learning\": 3,\n",
    "    \"Cybersecurity\": 6,\n",
    "    \"Software Development\": 6,\n",
    "    \"Mobile App Development\": 2,\n",
    "    \"Data Analytics\": 1,\n",
    "    # topics in the class\n",
    "    \"Binary Search\": 6,\n",
    "    \"Class Templates\": 6,\n",
    "    \"Object Oriented Programming\": 10,\n",
    "    \"Stack\": 6,\n",
    "    \"Queue\": 6,\n",
    "    \"Binary Search Tree\": 8,\n",
    "    \"Merge Sort\": 5,\n",
    "    \"Quick Sort\": 5,\n",
    "    \"Heap\": 5,\n",
    "    \"Exception Handling\": 6,\n",
    "}"
   ]
  },
  {
   "cell_type": "code",
   "execution_count": null,
   "id": "c86edbfd-7d51-4415-a543-b2179fa10639",
   "metadata": {},
   "outputs": [],
   "source": [
    "# wordcloud = WordCloud(\n",
    "#     width=2400,\n",
    "#     height=960,\n",
    "#     background_color='black',\n",
    "#     colormap='Purples',\n",
    "#     prefer_horizontal=0.005,\n",
    "# ).generate_from_frequencies(subfields)"
   ]
  },
  {
   "cell_type": "code",
   "execution_count": null,
   "id": "40efcbda-501f-4da6-9fb2-fcfd515af2d9",
   "metadata": {},
   "outputs": [],
   "source": [
    "# plt.figure( figsize=(30,12))\n",
    "# plt.imshow(wordcloud)\n",
    "# plt.imshow(wordcloud, interpolation='bilinear')\n",
    "# plt.axis('off')\n",
    "# plt.savefig('CS235_banner.png', pad_inches=0, bbox_inches='tight')\n",
    "# plt.show()"
   ]
  },
  {
   "cell_type": "code",
   "execution_count": null,
   "id": "1c5f71af-1dce-4211-b2d6-d5b44671b8f4",
   "metadata": {},
   "outputs": [],
   "source": [
    "df = pd.read_csv(\"Midterm.csv\")\n",
    "df"
   ]
  },
  {
   "cell_type": "code",
   "execution_count": null,
   "id": "19c10f4c-0edc-47bb-85c7-f8d8fc1f9de1",
   "metadata": {},
   "outputs": [],
   "source": [
    "df.sort_values(by='Scaled',inplace=True)\n",
    "df['index'] = list(range(0,24))\n",
    "df.set_index('index',inplace=True)\n",
    "df.plot(y=[\"Scaled\",\"Attendance\"],label=[\"Midterm (Scaled)\",\"Attendance\"],title=\"Attendance and Midterm Scores\")\n",
    "plt.gcf()\n",
    "plt.show()"
   ]
  },
  {
   "cell_type": "code",
   "execution_count": null,
   "id": "d86621cf-2ab5-4613-9319-8c5045433665",
   "metadata": {},
   "outputs": [],
   "source": [
    "no_prereq = df[df[\"Failed (CS135)\" == True]]\n",
    "yes_prereq = df[df[\"Failed (CS135)\" == False]]"
   ]
  },
  {
   "cell_type": "code",
   "execution_count": null,
   "id": "d64a39b1-999a-4898-bd93-763da199aaf8",
   "metadata": {},
   "outputs": [],
   "source": []
  }
 ],
 "metadata": {
  "kernelspec": {
   "display_name": "cs235",
   "language": "python",
   "name": "cs235"
  },
  "language_info": {
   "codemirror_mode": {
    "name": "ipython",
    "version": 3
   },
   "file_extension": ".py",
   "mimetype": "text/x-python",
   "name": "python",
   "nbconvert_exporter": "python",
   "pygments_lexer": "ipython3",
   "version": "3.13.3"
  }
 },
 "nbformat": 4,
 "nbformat_minor": 5
}
