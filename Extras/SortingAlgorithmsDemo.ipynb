{
  "nbformat": 4,
  "nbformat_minor": 0,
  "metadata": {
    "colab": {
      "provenance": [],
      "collapsed_sections": [
        "11pkKmnOEHFC",
        "44gfvE1CEu9k",
        "x0qTJtuUFm-X"
      ]
    },
    "kernelspec": {
      "name": "python3",
      "display_name": "Python 3"
    },
    "language_info": {
      "name": "python"
    }
  },
  "cells": [
    {
      "cell_type": "markdown",
      "source": [
        "# Sorting Algorithms Demo\n",
        "###### *make a copy of this notebook to experiment with the algorithms*"
      ],
      "metadata": {
        "id": "tno_-qRyvZwf"
      }
    },
    {
      "cell_type": "markdown",
      "source": [
        "# Install required libraries"
      ],
      "metadata": {
        "id": "ldfOmDkEFaUv"
      }
    },
    {
      "cell_type": "code",
      "execution_count": null,
      "metadata": {
        "colab": {
          "base_uri": "https://localhost:8080/"
        },
        "id": "S-G8qt-WFDcN",
        "outputId": "905658fc-5521-4400-950b-e1b132e3c6d8"
      },
      "outputs": [
        {
          "output_type": "stream",
          "name": "stdout",
          "text": [
            "Requirement already satisfied: numpy in /usr/local/lib/python3.11/dist-packages (2.0.2)\n",
            "Requirement already satisfied: matplotlib in /usr/local/lib/python3.11/dist-packages (3.10.0)\n",
            "Requirement already satisfied: contourpy>=1.0.1 in /usr/local/lib/python3.11/dist-packages (from matplotlib) (1.3.2)\n",
            "Requirement already satisfied: cycler>=0.10 in /usr/local/lib/python3.11/dist-packages (from matplotlib) (0.12.1)\n",
            "Requirement already satisfied: fonttools>=4.22.0 in /usr/local/lib/python3.11/dist-packages (from matplotlib) (4.58.4)\n",
            "Requirement already satisfied: kiwisolver>=1.3.1 in /usr/local/lib/python3.11/dist-packages (from matplotlib) (1.4.8)\n",
            "Requirement already satisfied: packaging>=20.0 in /usr/local/lib/python3.11/dist-packages (from matplotlib) (24.2)\n",
            "Requirement already satisfied: pillow>=8 in /usr/local/lib/python3.11/dist-packages (from matplotlib) (11.2.1)\n",
            "Requirement already satisfied: pyparsing>=2.3.1 in /usr/local/lib/python3.11/dist-packages (from matplotlib) (3.2.3)\n",
            "Requirement already satisfied: python-dateutil>=2.7 in /usr/local/lib/python3.11/dist-packages (from matplotlib) (2.9.0.post0)\n",
            "Requirement already satisfied: six>=1.5 in /usr/local/lib/python3.11/dist-packages (from python-dateutil>=2.7->matplotlib) (1.17.0)\n"
          ]
        }
      ],
      "source": [
        "!pip install numpy matplotlib"
      ]
    },
    {
      "cell_type": "markdown",
      "source": [
        "# Import the necessary libraries"
      ],
      "metadata": {
        "id": "m16ZTLEPFpfj"
      }
    },
    {
      "cell_type": "code",
      "source": [
        "import time\n",
        "import numpy as np\n",
        "import matplotlib.pyplot as plt\n",
        "\n",
        "from typing import Callable, Dict, List, Any"
      ],
      "metadata": {
        "id": "ELNi9jEZFRIV"
      },
      "execution_count": null,
      "outputs": []
    },
    {
      "cell_type": "markdown",
      "source": [
        "# Define a function to get runtime of given function"
      ],
      "metadata": {
        "id": "VOW_CJ5fF_d0"
      }
    },
    {
      "cell_type": "code",
      "source": [
        "def get_runtime(function:Callable,arguments:Dict[str, Any]):\n",
        "  start = time.time()\n",
        "  function(**arguments)\n",
        "  stop = time.time()\n",
        "  return stop-start"
      ],
      "metadata": {
        "id": "R8X6daEXF-WJ"
      },
      "execution_count": null,
      "outputs": []
    },
    {
      "cell_type": "markdown",
      "source": [
        "# Selection Sort"
      ],
      "metadata": {
        "id": "wm-P-K3kF4U4"
      }
    },
    {
      "cell_type": "code",
      "source": [
        "def selection_sort(container:List[Any],verbose=False):\n",
        "  for i in range(len(container)):\n",
        "    if verbose:\n",
        "      print(f\"Pass {i}: \",container)\n",
        "    smallest = container.index(min(container[i:]))\n",
        "    if (i != smallest):\n",
        "      container[i],container[smallest] = container[smallest],container[i]\n",
        "  return container"
      ],
      "metadata": {
        "id": "KU_QKoTOGTCo"
      },
      "execution_count": null,
      "outputs": []
    },
    {
      "cell_type": "markdown",
      "source": [
        "# Bubble Sort"
      ],
      "metadata": {
        "id": "1_9D_SAYJOk5"
      }
    },
    {
      "cell_type": "code",
      "source": [
        "def bubble_sort(container:List[Any],verbose=False):\n",
        "  is_sorted = False\n",
        "  for i in range(1,len(container)):\n",
        "    if verbose:\n",
        "      print(f\"Pass {i-1}: \",container)\n",
        "    if is_sorted:\n",
        "      return container\n",
        "    is_sorted = True\n",
        "    for j in range(len(container)-i):\n",
        "      if container[j] > container[j+1]:\n",
        "        container[j],container[j+1] = container[j+1],container[j]\n",
        "        is_sorted = False\n",
        "  return container"
      ],
      "metadata": {
        "id": "nP9gZObgJZH7"
      },
      "execution_count": null,
      "outputs": []
    },
    {
      "cell_type": "markdown",
      "source": [
        "# Insertion Sort"
      ],
      "metadata": {
        "id": "ovbboKQ9MMgq"
      }
    },
    {
      "cell_type": "code",
      "source": [
        "def insertion_sort(container:List[Any],verbose=False):\n",
        "  for i in range(1,len(container)):\n",
        "    if verbose:\n",
        "      print(f\"Pass {i-1}: \",container)\n",
        "    curr = i\n",
        "    while (curr > 0) and (container[curr-1] > container[curr]):\n",
        "      container[curr],container[curr-1] = container[curr-1],container[curr]\n",
        "      curr -= 1\n",
        "  return container"
      ],
      "metadata": {
        "id": "huN_3BtQMRKg"
      },
      "execution_count": null,
      "outputs": []
    },
    {
      "cell_type": "markdown",
      "source": [
        "# Merge Sort"
      ],
      "metadata": {
        "id": "MlW9248uOB7G"
      }
    },
    {
      "cell_type": "code",
      "source": [
        "def merge(left:List[Any],right:List[Any]):\n",
        "  merged = []\n",
        "  l = 0\n",
        "  r = 0\n",
        "  while (l < len(left)) and (r < len(right)):\n",
        "    if left[l] <= right[r]:\n",
        "      merged.append(left[l])\n",
        "      l += 1\n",
        "    else:\n",
        "      merged.append(right[r])\n",
        "      r += 1\n",
        "  remaining = left[l:] if l < len(left) else right[r:]\n",
        "  merged.extend(remaining)\n",
        "  return merged\n",
        "\n",
        "def merge_sort(\n",
        "    container:List[Any],\n",
        "    minimum:int=1,\n",
        "    optimizer:Callable=insertion_sort,\n",
        "    verbose=False\n",
        "  ):\n",
        "  if verbose:\n",
        "    print(\"Current Container:\", container)\n",
        "  if len(container) <= minimum:\n",
        "    return optimizer(container)\n",
        "  middle = len(container)//2\n",
        "  left = merge_sort(container[:middle],minimum,optimizer,verbose)\n",
        "  if verbose:\n",
        "    print(\"Left Container:\", left)\n",
        "  right = merge_sort(container[middle:],minimum,optimizer,verbose)\n",
        "  if verbose:\n",
        "    print(\"Right Container:\", right)\n",
        "  return merge(left,right)"
      ],
      "metadata": {
        "id": "VGuTj8tDODv5"
      },
      "execution_count": null,
      "outputs": []
    },
    {
      "cell_type": "markdown",
      "source": [
        "# Quick Sort"
      ],
      "metadata": {
        "id": "g5NGPg_UcF9t"
      }
    },
    {
      "cell_type": "code",
      "source": [
        "def partition(container:List[Any],first:int,last:int,verbose=False):\n",
        "  if verbose:\n",
        "    print(\"Initial:\",container)\n",
        "  middle = (first+last)//2\n",
        "  if (last - first + 1) >= 3:\n",
        "    container[first],container[last],container[middle] = sorted([container[first],container[middle],container[last]])\n",
        "  if verbose:\n",
        "    print(\"After Pivot Selection:\",container)\n",
        "  pivot_value = container[last]\n",
        "  left = first\n",
        "  right = last-1\n",
        "  # Shift things based on their value compared to the pivot\n",
        "  while True:\n",
        "    if verbose:\n",
        "      print(f\"Pass(left={left},right={right}):\",container)\n",
        "    while left <= right and container[left] < pivot_value:\n",
        "      left += 1\n",
        "    while left <= right and container[right] > pivot_value:\n",
        "      right -= 1\n",
        "    if left >= right: break\n",
        "    container[left],container[right] = container[right],container[left]\n",
        "    left += 1\n",
        "    right -= 1\n",
        "  if verbose:\n",
        "    print(\"After Loop:\",container)\n",
        "  container[left],container[last] = container[last],container[left]\n",
        "  if verbose:\n",
        "    print(\"Finally:\",container)\n",
        "  return left\n",
        "\n",
        "def quick_sort(container:List[Any],first:int,last:int,minimum:int=1,optimizer:Callable=insertion_sort,verbose=False):\n",
        "  if verbose:\n",
        "    print(f\"Pass({first},{last}):\", container)\n",
        "  if last <= first: return container\n",
        "  if (last - first + 1) < minimum:\n",
        "    container[first:last] = optimizer(container[first:last])\n",
        "    return container\n",
        "  pivot = partition(container,first,last)\n",
        "  if verbose:\n",
        "    print(\"After Partition:\",container)\n",
        "    print(\"Pivot Index:\", pivot)\n",
        "  quick_sort(container,first,pivot-1,minimum,optimizer,verbose)\n",
        "  quick_sort(container,pivot+1,last,minimum,optimizer,verbose)\n",
        "  return container"
      ],
      "metadata": {
        "id": "HqzA1pTjcH9K"
      },
      "execution_count": null,
      "outputs": []
    },
    {
      "cell_type": "markdown",
      "source": [
        "# Get Runtimes For Each Algorithm"
      ],
      "metadata": {
        "id": "A6fv2ku9-A9z"
      }
    },
    {
      "cell_type": "code",
      "source": [
        "def get_times(algorithm:Callable,ranges:List[int],seed:int,arguments:Dict[str,Any]={}) -> List[float]:\n",
        "  times = []\n",
        "  for i in ranges:\n",
        "    np.random.seed(seed)\n",
        "    arr = np.random.randint(0,i,i).tolist()\n",
        "    arguments[\"container\"] = arr\n",
        "    if \"first\" in arguments.keys():\n",
        "      arguments[\"last\"] = i-1\n",
        "    times.append(get_runtime(algorithm,arguments))\n",
        "  return times"
      ],
      "metadata": {
        "id": "6TwQgJeGr-x2"
      },
      "execution_count": null,
      "outputs": []
    },
    {
      "cell_type": "code",
      "source": [
        "ranges = list(range(100,5000,100))\n",
        "seed = 2026\n",
        "selection_t = get_times(selection_sort,ranges,seed)\n",
        "bubble_t = get_times(bubble_sort,ranges,seed)\n",
        "insertion_t = get_times(insertion_sort,ranges,seed)\n",
        "merge_t = get_times(merge_sort,ranges,seed)\n",
        "quick_t = get_times(quick_sort,ranges,seed,arguments={\"first\":0})"
      ],
      "metadata": {
        "id": "g_8rUl_D1gNN"
      },
      "execution_count": null,
      "outputs": []
    },
    {
      "cell_type": "code",
      "source": [
        "plt.plot(ranges,selection_t,label=\"selection sort\")\n",
        "plt.plot(ranges,bubble_t,label=\"bubble sort\")\n",
        "plt.plot(ranges,insertion_t,label=\"insertion sort\")\n",
        "plt.plot(ranges,merge_t,label=\"merge sort\")\n",
        "plt.plot(ranges,quick_t,label=\"quick sort\")\n",
        "plt.legend()\n",
        "plt.title(\"Runtime of the Sorting Algorithms\")\n",
        "plt.xlabel(\"number of items\")\n",
        "plt.ylabel(\"runtime(seconds)\")\n",
        "plt.show()"
      ],
      "metadata": {
        "colab": {
          "base_uri": "https://localhost:8080/",
          "height": 472
        },
        "id": "csOQrBCh-IQl",
        "outputId": "1caa84b2-c3f8-4d03-9692-6e931c7026e1"
      },
      "execution_count": null,
      "outputs": [
        {
          "output_type": "display_data",
          "data": {
            "text/plain": [
              "<Figure size 640x480 with 1 Axes>"
            ],
            "image/png": "[encoded data removed]"
          },
          "metadata": {}
        }
      ]
    },
    {
      "cell_type": "markdown",
      "source": [
        "# View Steps"
      ],
      "metadata": {
        "id": "f8OHAe6STFAB"
      }
    },
    {
      "cell_type": "markdown",
      "source": [
        "## Selection Sort Steps"
      ],
      "metadata": {
        "id": "q-bqnBfDEA7z"
      }
    },
    {
      "cell_type": "code",
      "source": [
        "unsorted = [5,2,3,4,1,7,6]"
      ],
      "metadata": {
        "id": "qjqNrFj2EWGg"
      },
      "execution_count": null,
      "outputs": []
    },
    {
      "cell_type": "code",
      "source": [
        "test = unsorted.copy()\n",
        "selection_sort(test,True)"
      ],
      "metadata": {
        "colab": {
          "base_uri": "https://localhost:8080/"
        },
        "id": "ZY2zlRrJDGce",
        "outputId": "4edd3cd2-90cc-41a9-af11-0b3527bfcdac"
      },
      "execution_count": null,
      "outputs": [
        {
          "output_type": "stream",
          "name": "stdout",
          "text": [
            "Pass 0:  [5, 2, 3, 4, 1, 7, 6]\n",
            "Pass 1:  [1, 2, 3, 4, 5, 7, 6]\n",
            "Pass 2:  [1, 2, 3, 4, 5, 7, 6]\n",
            "Pass 3:  [1, 2, 3, 4, 5, 7, 6]\n",
            "Pass 4:  [1, 2, 3, 4, 5, 7, 6]\n",
            "Pass 5:  [1, 2, 3, 4, 5, 7, 6]\n",
            "Pass 6:  [1, 2, 3, 4, 5, 6, 7]\n"
          ]
        },
        {
          "output_type": "execute_result",
          "data": {
            "text/plain": [
              "[1, 2, 3, 4, 5, 6, 7]"
            ]
          },
          "metadata": {},
          "execution_count": 45
        }
      ]
    },
    {
      "cell_type": "markdown",
      "source": [
        "## Bubble Sort Steps"
      ],
      "metadata": {
        "id": "11pkKmnOEHFC"
      }
    },
    {
      "cell_type": "code",
      "source": [
        "test = unsorted.copy()\n",
        "bubble_sort(test,True)"
      ],
      "metadata": {
        "colab": {
          "base_uri": "https://localhost:8080/"
        },
        "id": "Pan3Me_0EKrH",
        "outputId": "3b626ac5-c551-4f87-bbaa-cd223397ec8e"
      },
      "execution_count": null,
      "outputs": [
        {
          "output_type": "stream",
          "name": "stdout",
          "text": [
            "Pass 0:  [5, 2, 3, 4, 1, 7, 6]\n",
            "Pass 1:  [2, 3, 4, 1, 5, 6, 7]\n",
            "Pass 2:  [2, 3, 1, 4, 5, 6, 7]\n",
            "Pass 3:  [2, 1, 3, 4, 5, 6, 7]\n",
            "Pass 4:  [1, 2, 3, 4, 5, 6, 7]\n",
            "Pass 5:  [1, 2, 3, 4, 5, 6, 7]\n"
          ]
        },
        {
          "output_type": "execute_result",
          "data": {
            "text/plain": [
              "[1, 2, 3, 4, 5, 6, 7]"
            ]
          },
          "metadata": {},
          "execution_count": 46
        }
      ]
    },
    {
      "cell_type": "markdown",
      "source": [
        "## Insertion Sort Steps"
      ],
      "metadata": {
        "id": "44gfvE1CEu9k"
      }
    },
    {
      "cell_type": "code",
      "source": [
        "test = unsorted.copy()\n",
        "insertion_sort(test,True)"
      ],
      "metadata": {
        "colab": {
          "base_uri": "https://localhost:8080/"
        },
        "id": "XbRj4WVEEw21",
        "outputId": "20c30ecf-3826-4034-caa0-b32ecd3a8fb9"
      },
      "execution_count": null,
      "outputs": [
        {
          "output_type": "stream",
          "name": "stdout",
          "text": [
            "Pass 0:  [5, 2, 3, 4, 1, 7, 6]\n",
            "Pass 1:  [2, 5, 3, 4, 1, 7, 6]\n",
            "Pass 2:  [2, 3, 5, 4, 1, 7, 6]\n",
            "Pass 3:  [2, 3, 4, 5, 1, 7, 6]\n",
            "Pass 4:  [1, 2, 3, 4, 5, 7, 6]\n",
            "Pass 5:  [1, 2, 3, 4, 5, 7, 6]\n"
          ]
        },
        {
          "output_type": "execute_result",
          "data": {
            "text/plain": [
              "[1, 2, 3, 4, 5, 6, 7]"
            ]
          },
          "metadata": {},
          "execution_count": 47
        }
      ]
    },
    {
      "cell_type": "markdown",
      "source": [
        "## Merge Sort Steps"
      ],
      "metadata": {
        "id": "x0qTJtuUFm-X"
      }
    },
    {
      "cell_type": "code",
      "source": [
        "test = unsorted.copy()\n",
        "merge_sort(test,verbose=True)"
      ],
      "metadata": {
        "colab": {
          "base_uri": "https://localhost:8080/"
        },
        "id": "adSgcOQyFsb8",
        "outputId": "98595724-e2bb-47e0-a941-3e76144a9978"
      },
      "execution_count": null,
      "outputs": [
        {
          "output_type": "stream",
          "name": "stdout",
          "text": [
            "Current Container: [5, 2, 3, 4, 1, 7, 6]\n",
            "Current Container: [5, 2, 3]\n",
            "Current Container: [5]\n",
            "Left Container: [5]\n",
            "Current Container: [2, 3]\n",
            "Current Container: [2]\n",
            "Left Container: [2]\n",
            "Current Container: [3]\n",
            "Right Container: [3]\n",
            "Right Container: [2, 3]\n",
            "Left Container: [2, 3, 5]\n",
            "Current Container: [4, 1, 7, 6]\n",
            "Current Container: [4, 1]\n",
            "Current Container: [4]\n",
            "Left Container: [4]\n",
            "Current Container: [1]\n",
            "Right Container: [1]\n",
            "Left Container: [1, 4]\n",
            "Current Container: [7, 6]\n",
            "Current Container: [7]\n",
            "Left Container: [7]\n",
            "Current Container: [6]\n",
            "Right Container: [6]\n",
            "Right Container: [6, 7]\n",
            "Right Container: [1, 4, 6, 7]\n"
          ]
        },
        {
          "output_type": "execute_result",
          "data": {
            "text/plain": [
              "[1, 2, 3, 4, 5, 6, 7]"
            ]
          },
          "metadata": {},
          "execution_count": 48
        }
      ]
    },
    {
      "cell_type": "markdown",
      "source": [
        "## Quick Sort Steps"
      ],
      "metadata": {
        "id": "c9gVpSlhIhRc"
      }
    },
    {
      "cell_type": "code",
      "source": [
        "test = unsorted.copy()\n",
        "quick_sort(test,first=0,last=len(test)-1,verbose=True)"
      ],
      "metadata": {
        "colab": {
          "base_uri": "https://localhost:8080/"
        },
        "id": "ZJO1eD-aIjYR",
        "outputId": "6191f830-234a-41ce-eed0-6c7020656636"
      },
      "execution_count": null,
      "outputs": [
        {
          "output_type": "stream",
          "name": "stdout",
          "text": [
            "Pass(0,6): [5, 2, 3, 4, 1, 7, 6]\n",
            "After Partition: [4, 2, 3, 1, 5, 7, 6]\n",
            "Pivot Index: 4\n",
            "Pass(0,3): [4, 2, 3, 1, 5, 7, 6]\n",
            "After Partition: [1, 2, 3, 4, 5, 7, 6]\n",
            "Pivot Index: 1\n",
            "Pass(0,0): [1, 2, 3, 4, 5, 7, 6]\n",
            "Pass(2,3): [1, 2, 3, 4, 5, 7, 6]\n",
            "After Partition: [1, 2, 3, 4, 5, 7, 6]\n",
            "Pivot Index: 3\n",
            "Pass(2,2): [1, 2, 3, 4, 5, 7, 6]\n",
            "Pass(4,3): [1, 2, 3, 4, 5, 7, 6]\n",
            "Pass(5,6): [1, 2, 3, 4, 5, 7, 6]\n",
            "After Partition: [1, 2, 3, 4, 5, 6, 7]\n",
            "Pivot Index: 5\n",
            "Pass(5,4): [1, 2, 3, 4, 5, 6, 7]\n",
            "Pass(6,6): [1, 2, 3, 4, 5, 6, 7]\n"
          ]
        },
        {
          "output_type": "execute_result",
          "data": {
            "text/plain": [
              "[1, 2, 3, 4, 5, 6, 7]"
            ]
          },
          "metadata": {},
          "execution_count": 49
        }
      ]
    },
    {
      "cell_type": "markdown",
      "source": [
        "### Partition Function"
      ],
      "metadata": {
        "id": "WYLjIQIFUSS1"
      }
    },
    {
      "cell_type": "code",
      "source": [
        "test = unsorted.copy()\n",
        "partition(test,0,len(test)-1,True)"
      ],
      "metadata": {
        "colab": {
          "base_uri": "https://localhost:8080/"
        },
        "id": "1rLZjPR-UTun",
        "outputId": "57799127-4195-40ed-b648-9d76843e87c7"
      },
      "execution_count": null,
      "outputs": [
        {
          "output_type": "stream",
          "name": "stdout",
          "text": [
            "Initial: [5, 2, 3, 4, 1, 7, 6]\n",
            "After Pivot Selection: [4, 2, 3, 6, 1, 7, 5]\n",
            "Pass(left=0,right=5): [4, 2, 3, 6, 1, 7, 5]\n",
            "Pass(left=4,right=3): [4, 2, 3, 1, 6, 7, 5]\n",
            "After Loop: [4, 2, 3, 1, 6, 7, 5]\n",
            "Finally: [4, 2, 3, 1, 5, 7, 6]\n"
          ]
        },
        {
          "output_type": "execute_result",
          "data": {
            "text/plain": [
              "4"
            ]
          },
          "metadata": {},
          "execution_count": 50
        }
      ]
    }
  ]
}